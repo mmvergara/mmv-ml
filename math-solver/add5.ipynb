{
 "cells": [
  {
   "cell_type": "code",
   "execution_count": null,
   "metadata": {},
   "outputs": [],
   "source": [
    "import numpy as np\n",
    "import tensorflow as tf\n",
    "from tensorflow import keras\n",
    "from tensorflow.keras import layers\n",
    "\n",
    "# Generate random data for training\n",
    "np.random.seed(42)\n",
    "X_train = np.random.rand(1000, 1) * 100  # 1000 random numbers between 0 and 100\n",
    "y_train = X_train + 5  # Add 5 to each input\n",
    "\n",
    "# Define the model\n",
    "model = keras.Sequential([\n",
    "    layers.Dense(10, input_shape=(1,), activation='relu'),\n",
    "    layers.Dense(1)\n",
    "])\n",
    "\n",
    "# Compile the model\n",
    "model.compile(optimizer='adam', loss='mean_squared_error')\n",
    "\n",
    "# Train the model\n",
    "model.fit(X_train, y_train, epochs=50, batch_size=32, verbose=2)\n"
   ]
  },
  {
   "cell_type": "code",
   "execution_count": null,
   "metadata": {},
   "outputs": [],
   "source": [
    "\n",
    "# Test the model\n",
    "test_input = np.array([[25.0]])  # Test with a new input (e.g., 25)\n",
    "predicted_output = model.predict(test_input)\n",
    "print(\"Input:\", test_input[0][0])\n",
    "print(\"Predicted Output:\", predicted_output[0][0])"
   ]
  }
 ],
 "metadata": {
  "language_info": {
   "name": "python"
  }
 },
 "nbformat": 4,
 "nbformat_minor": 2
}
